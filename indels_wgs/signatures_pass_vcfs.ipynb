{
 "cells": [
  {
   "cell_type": "markdown",
   "metadata": {},
   "source": [
    "# Copy all PASS vcfs from project\n",
    "\n",
    "Created file with pattern paths to the vcf files:\n",
    "\n",
    "```\n",
    "isabl get-outdirs -fi projects 116 -fi application 32 -fi status SUCCEEDED | xargs -n 1 -I{} echo {}/merged/*.indels.pass.vcf.gz > indels_pass_p116.txt\n",
    "```\n",
    "\n",
    "Look for each file and copy it inside folder\n",
    "```\n",
    "cat indels_pass_p116.txt | xargs -I{} bash -c \"ls {}\" | xargs -I{} bash -c \"cp {} P116/\"\n",
    "```\n",
    "\n",
    "Unzip vcfs:\n",
    "\n",
    "```\n",
    "cd P116 && gunzip *.vcf.gz\n",
    "```"
   ]
  },
  {
   "cell_type": "code",
   "execution_count": null,
   "metadata": {},
   "outputs": [],
   "source": [
    "# Install GRCh37\n",
    "\n",
    "from SigProfilerMatrixGenerator import install as genInstall\n",
    "\n",
    "genInstall.install('GRCh37', rsync=False, bash=True)"
   ]
  },
  {
   "cell_type": "code",
   "execution_count": null,
   "metadata": {},
   "outputs": [],
   "source": [
    "from SigProfilerMatrixGenerator.scripts import SigProfilerMatrixGeneratorFunc as matGen\n",
    "\n",
    "matrices = matGen.SigProfilerMatrixGeneratorFunc(\n",
    "    \"P179\", \n",
    "    \"GRCh37\", \n",
    "    \"/work/isabl/home/arangooj/indels_wgs/P179\",\n",
    "    plot=True, \n",
    "    exome=False, \n",
    "    bed_file=None, \n",
    "    chrom_based=False, \n",
    "    tsb_stat=False, \n",
    "    seqInfo=False, \n",
    "    cushion=100\n",
    ")"
   ]
  },
  {
   "cell_type": "code",
   "execution_count": null,
   "metadata": {},
   "outputs": [],
   "source": [
    "matrices"
   ]
  },
  {
   "cell_type": "code",
   "execution_count": null,
   "metadata": {},
   "outputs": [],
   "source": [
    "import pysam\n",
    "import pandas as pd\n",
    "\n",
    "tsv = \"/work/isabl/home/isablbot/wgs_indels/any2lcc-pos/any2lcc_raw.tsv.gz\"\n",
    "vcf = \"/work/isabl/home/arangooj/indels_wgs\"\n",
    "template = \"/work/isabl/home/arangooj/indels_wgs/test/input/all.vcf\"\n",
    "\n",
    "indels = []\n",
    "chunks = pd.read_csv(\n",
    "    filepath_or_buffer=tsv,\n",
    "    compression=\"gzip\",\n",
    "    chunksize=20000,\n",
    "    sep=\"\\t\",\n",
    "    comment=\"#\",\n",
    "    low_memory=False,\n",
    "    dtype={\"CHR\": str},\n",
    ")\n",
    "for i in chunks:\n",
    "    indels.append(i)\n",
    "    \n",
    "indels = pd.concat(indels)\n",
    "with pysam.VariantFile(template, mode=\"r\") as template:\n",
    "    for name, df in indels.groupby('TARGET_NAME'):\n",
    "        print(f\"Creating {name}...\")\n",
    "        with pysam.VariantFile(f\"{vcf}/{name}.vcf\", mode=\"w\", header=template.header) as any2lcc:\n",
    "                for _,row in df.iterrows():\n",
    "                    rec = any2lcc.new_record()\n",
    "                    rec.chrom = str(row.CHR)\n",
    "                    rec.pos = row.START\n",
    "                    rec.ref = row.REF\n",
    "                    rec.alts = [row.ALT]\n",
    "                    rec.filter.add(\"PASS\")\n",
    "                    any2lcc.write(rec)\n"
   ]
  },
  {
   "cell_type": "code",
   "execution_count": null,
   "metadata": {},
   "outputs": [],
   "source": []
  }
 ],
 "metadata": {
  "kernelspec": {
   "display_name": "Python 3",
   "language": "python",
   "name": "python3"
  },
  "language_info": {
   "codemirror_mode": {
    "name": "ipython",
    "version": 3
   },
   "file_extension": ".py",
   "mimetype": "text/x-python",
   "name": "python",
   "nbconvert_exporter": "python",
   "pygments_lexer": "ipython3",
   "version": "3.6.5"
  }
 },
 "nbformat": 4,
 "nbformat_minor": 2
}
